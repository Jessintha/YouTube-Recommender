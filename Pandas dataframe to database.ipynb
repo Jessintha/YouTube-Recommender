{
 "cells": [
  {
   "cell_type": "markdown",
   "metadata": {},
   "source": [
    "# Pandas dataframe to database "
   ]
  },
  {
   "cell_type": "code",
   "execution_count": 1,
   "metadata": {},
   "outputs": [],
   "source": [
    "import psycopg2 as ps\n",
    "import pandas as pd"
   ]
  },
  {
   "cell_type": "code",
   "execution_count": 32,
   "metadata": {},
   "outputs": [
    {
     "data": {
      "text/plain": [
       "(2095, 14)"
      ]
     },
     "execution_count": 32,
     "metadata": {},
     "output_type": "execute_result"
    }
   ],
   "source": [
    "df = pd.read_csv('finalData_cleaned.csv')\n",
    "df.shape"
   ]
  },
  {
   "cell_type": "code",
   "execution_count": 33,
   "metadata": {},
   "outputs": [
    {
     "data": {
      "text/html": [
       "<div>\n",
       "<style scoped>\n",
       "    .dataframe tbody tr th:only-of-type {\n",
       "        vertical-align: middle;\n",
       "    }\n",
       "\n",
       "    .dataframe tbody tr th {\n",
       "        vertical-align: top;\n",
       "    }\n",
       "\n",
       "    .dataframe thead th {\n",
       "        text-align: right;\n",
       "    }\n",
       "</style>\n",
       "<table border=\"1\" class=\"dataframe\">\n",
       "  <thead>\n",
       "    <tr style=\"text-align: right;\">\n",
       "      <th></th>\n",
       "      <th>channel</th>\n",
       "      <th>video_id</th>\n",
       "      <th>title</th>\n",
       "      <th>upload_date</th>\n",
       "      <th>subs</th>\n",
       "      <th>views</th>\n",
       "      <th>likes</th>\n",
       "      <th>dislikes</th>\n",
       "      <th>like_perc</th>\n",
       "      <th>comments</th>\n",
       "      <th>tags</th>\n",
       "      <th>description</th>\n",
       "      <th>durations</th>\n",
       "      <th>player</th>\n",
       "    </tr>\n",
       "  </thead>\n",
       "  <tbody>\n",
       "    <tr>\n",
       "      <th>0</th>\n",
       "      <td>Nate at StrataScratch</td>\n",
       "      <td>GGURenNfXI0</td>\n",
       "      <td>Multiple Approaches for Solving a Twitter Data...</td>\n",
       "      <td>2021-09-13</td>\n",
       "      <td>8900</td>\n",
       "      <td>1268</td>\n",
       "      <td>60</td>\n",
       "      <td>1</td>\n",
       "      <td>0.047319</td>\n",
       "      <td>23</td>\n",
       "      <td>['Twitter Data Scientist', 'Twitter Data Scien...</td>\n",
       "      <td>We’ll closely examine one of the interesting T...</td>\n",
       "      <td>20.27</td>\n",
       "      <td>{'embedHtml': '&lt;iframe width=\"480\" height=\"270...</td>\n",
       "    </tr>\n",
       "    <tr>\n",
       "      <th>1</th>\n",
       "      <td>Nate at StrataScratch</td>\n",
       "      <td>PlpUo6bHsBQ</td>\n",
       "      <td>Advanced Facebook Data Science SQL interview q...</td>\n",
       "      <td>2021-08-09</td>\n",
       "      <td>8900</td>\n",
       "      <td>3773</td>\n",
       "      <td>143</td>\n",
       "      <td>0</td>\n",
       "      <td>0.037901</td>\n",
       "      <td>30</td>\n",
       "      <td>['facebook data science interview', 'facebook ...</td>\n",
       "      <td>This advanced SQL question is from the Faceboo...</td>\n",
       "      <td>24.27</td>\n",
       "      <td>{'embedHtml': '&lt;iframe width=\"480\" height=\"270...</td>\n",
       "    </tr>\n",
       "    <tr>\n",
       "      <th>2</th>\n",
       "      <td>Nate at StrataScratch</td>\n",
       "      <td>uY2wfR8Dkqo</td>\n",
       "      <td>5 Tips for a Successful Data Science Interview</td>\n",
       "      <td>2021-07-26</td>\n",
       "      <td>8900</td>\n",
       "      <td>3738</td>\n",
       "      <td>139</td>\n",
       "      <td>1</td>\n",
       "      <td>0.037186</td>\n",
       "      <td>30</td>\n",
       "      <td>['data science interview tips', 'data science ...</td>\n",
       "      <td>In this video of 5 tips for a successful data ...</td>\n",
       "      <td>20.20</td>\n",
       "      <td>{'embedHtml': '&lt;iframe width=\"480\" height=\"270...</td>\n",
       "    </tr>\n",
       "    <tr>\n",
       "      <th>3</th>\n",
       "      <td>Nate at StrataScratch</td>\n",
       "      <td>yY7yau9j3xk</td>\n",
       "      <td>Data Science SQL Scenario Based Interview Ques...</td>\n",
       "      <td>2021-07-20</td>\n",
       "      <td>8900</td>\n",
       "      <td>2388</td>\n",
       "      <td>84</td>\n",
       "      <td>1</td>\n",
       "      <td>0.035176</td>\n",
       "      <td>16</td>\n",
       "      <td>['sql interview question', 'facebook sql inter...</td>\n",
       "      <td>This Data Science SQL interview question is fr...</td>\n",
       "      <td>16.15</td>\n",
       "      <td>{'embedHtml': '&lt;iframe width=\"480\" height=\"270...</td>\n",
       "    </tr>\n",
       "    <tr>\n",
       "      <th>4</th>\n",
       "      <td>Nate at StrataScratch</td>\n",
       "      <td>i-E4pdU2qXM</td>\n",
       "      <td>Data Science SQL Interview Question Walkthroug...</td>\n",
       "      <td>2021-07-13</td>\n",
       "      <td>8900</td>\n",
       "      <td>2162</td>\n",
       "      <td>107</td>\n",
       "      <td>0</td>\n",
       "      <td>0.049491</td>\n",
       "      <td>15</td>\n",
       "      <td>['microsoft data science interview', 'microsof...</td>\n",
       "      <td>This Data Science SQL interview question is fr...</td>\n",
       "      <td>19.60</td>\n",
       "      <td>{'embedHtml': '&lt;iframe width=\"480\" height=\"270...</td>\n",
       "    </tr>\n",
       "  </tbody>\n",
       "</table>\n",
       "</div>"
      ],
      "text/plain": [
       "                 channel     video_id  \\\n",
       "0  Nate at StrataScratch  GGURenNfXI0   \n",
       "1  Nate at StrataScratch  PlpUo6bHsBQ   \n",
       "2  Nate at StrataScratch  uY2wfR8Dkqo   \n",
       "3  Nate at StrataScratch  yY7yau9j3xk   \n",
       "4  Nate at StrataScratch  i-E4pdU2qXM   \n",
       "\n",
       "                                               title upload_date  subs  views  \\\n",
       "0  Multiple Approaches for Solving a Twitter Data...  2021-09-13  8900   1268   \n",
       "1  Advanced Facebook Data Science SQL interview q...  2021-08-09  8900   3773   \n",
       "2     5 Tips for a Successful Data Science Interview  2021-07-26  8900   3738   \n",
       "3  Data Science SQL Scenario Based Interview Ques...  2021-07-20  8900   2388   \n",
       "4  Data Science SQL Interview Question Walkthroug...  2021-07-13  8900   2162   \n",
       "\n",
       "   likes  dislikes  like_perc  comments  \\\n",
       "0     60         1   0.047319        23   \n",
       "1    143         0   0.037901        30   \n",
       "2    139         1   0.037186        30   \n",
       "3     84         1   0.035176        16   \n",
       "4    107         0   0.049491        15   \n",
       "\n",
       "                                                tags  \\\n",
       "0  ['Twitter Data Scientist', 'Twitter Data Scien...   \n",
       "1  ['facebook data science interview', 'facebook ...   \n",
       "2  ['data science interview tips', 'data science ...   \n",
       "3  ['sql interview question', 'facebook sql inter...   \n",
       "4  ['microsoft data science interview', 'microsof...   \n",
       "\n",
       "                                         description  durations  \\\n",
       "0  We’ll closely examine one of the interesting T...      20.27   \n",
       "1  This advanced SQL question is from the Faceboo...      24.27   \n",
       "2  In this video of 5 tips for a successful data ...      20.20   \n",
       "3  This Data Science SQL interview question is fr...      16.15   \n",
       "4  This Data Science SQL interview question is fr...      19.60   \n",
       "\n",
       "                                              player  \n",
       "0  {'embedHtml': '<iframe width=\"480\" height=\"270...  \n",
       "1  {'embedHtml': '<iframe width=\"480\" height=\"270...  \n",
       "2  {'embedHtml': '<iframe width=\"480\" height=\"270...  \n",
       "3  {'embedHtml': '<iframe width=\"480\" height=\"270...  \n",
       "4  {'embedHtml': '<iframe width=\"480\" height=\"270...  "
      ]
     },
     "execution_count": 33,
     "metadata": {},
     "output_type": "execute_result"
    }
   ],
   "source": [
    "df.head()"
   ]
  },
  {
   "cell_type": "code",
   "execution_count": 34,
   "metadata": {},
   "outputs": [],
   "source": [
    "df.rename(columns = {'id': 'video_id', 'title': 'video_title', 'subscriber_count': 'subs', 'view_count': 'views',\n",
    "                    'like_count': 'likes', 'dislike_count': 'dislikes', \"comment_count\": \"comments\", \"durations\": \"duration\"}, inplace = True)"
   ]
  },
  {
   "cell_type": "code",
   "execution_count": 35,
   "metadata": {},
   "outputs": [
    {
     "name": "stdout",
     "output_type": "stream",
     "text": [
      "<class 'pandas.core.frame.DataFrame'>\n",
      "RangeIndex: 2095 entries, 0 to 2094\n",
      "Data columns (total 14 columns):\n",
      " #   Column       Non-Null Count  Dtype  \n",
      "---  ------       --------------  -----  \n",
      " 0   channel      2095 non-null   object \n",
      " 1   video_id     2095 non-null   object \n",
      " 2   video_title  2095 non-null   object \n",
      " 3   upload_date  2095 non-null   object \n",
      " 4   subs         2095 non-null   int64  \n",
      " 5   views        2095 non-null   int64  \n",
      " 6   likes        2095 non-null   int64  \n",
      " 7   dislikes     2095 non-null   int64  \n",
      " 8   like_perc    2095 non-null   float64\n",
      " 9   comments     2095 non-null   int64  \n",
      " 10  tags         2095 non-null   object \n",
      " 11  description  2095 non-null   object \n",
      " 12  duration     2095 non-null   float64\n",
      " 13  player       2095 non-null   object \n",
      "dtypes: float64(2), int64(5), object(7)\n",
      "memory usage: 229.3+ KB\n"
     ]
    }
   ],
   "source": [
    "df.info()"
   ]
  },
  {
   "cell_type": "markdown",
   "metadata": {},
   "source": [
    "## Necessary actions for dataframe upload to database\n",
    "- Creating table in database\n",
    "- **Checking** if the video exists in the database\n",
    "    - If yes, **update** the corresponding video statistics \n",
    "    - If no, **insert** newly available video details as rows "
   ]
  },
  {
   "cell_type": "code",
   "execution_count": 18,
   "metadata": {},
   "outputs": [],
   "source": [
    "# create table \n",
    "\n",
    "def create_table(curr):\n",
    "    create_table_command = (\"\"\"CREATE TABLE IF NOT EXISTS video_data(\n",
    "                    channel VARCHAR(255),\n",
    "                    video_id VARCHAR(255) PRIMARY KEY,\n",
    "                    video_title TEXT,\n",
    "                    upload_date DATE,\n",
    "                    subs INTEGER,\n",
    "                    views INTEGER,\n",
    "                    likes INTEGER, \n",
    "                    dislikes INTEGER,\n",
    "                    like_perc FLOAT,\n",
    "                    comments INTEGER,\n",
    "                    tags TEXT, \n",
    "                    description TEXT, \n",
    "                    duration FLOAT, \n",
    "                    player TEXT)\"\"\")\n",
    "    curr.execute(create_table_command)"
   ]
  },
  {
   "cell_type": "code",
   "execution_count": 8,
   "metadata": {},
   "outputs": [],
   "source": [
    "# checking if video already exists in table\n",
    "def check_if_vid_exists(curr, video_id):\n",
    "    query = (\"\"\"SELECT video_id FROM video_data WHERE video_id = %s\"\"\")\n",
    "    curr.execute(query, [video_id])\n",
    "    \n",
    "    return curr.fetchone() is not None # if a row exists with the required video_id it returns the row, else returns None => video doesn't exist"
   ]
  },
  {
   "cell_type": "code",
   "execution_count": 9,
   "metadata": {},
   "outputs": [],
   "source": [
    "# update row if video exists\n",
    "def update_row(curr, video_id, video_title, subs, views, likes, dislikes, like_perc, comments):\n",
    "    query = (\"\"\"UPDATE video_data SET video_title = %s,\n",
    "                subs = %s,\n",
    "                views = %s,\n",
    "                likes = %s,\n",
    "                dislikes = %s,\n",
    "                like_perc = %s,\n",
    "                comments = %s\n",
    "                WHERE video_id = %s\"\"\")\n",
    "\n",
    "    vars_to_update = (video_title, [subs, views, likes, dislikes, like_perc, comments, video_id])\n",
    "    curr.execute(query, vars_to_update)"
   ]
  },
  {
   "cell_type": "code",
   "execution_count": 10,
   "metadata": {},
   "outputs": [],
   "source": [
    "def update_db(curr, df):\n",
    "    temp = pd.DataFrame(columns = df.columns)\n",
    "\n",
    "    for i, data in df.iterrows():\n",
    "        if check_if_vid_exists(curr, data['video_id']): # if video exists in table, we update the table with latest available statistics\n",
    "            update_row(curr, data['video_id'], data['video_title'], data['subs'], data['views'], data['likes'],\n",
    "                      data['dislikes'], data['like_perc'], data['comments'])\n",
    "\n",
    "        else: # when new video is published, we insert it into table\n",
    "            temp = temp.append(data)\n",
    "    return temp"
   ]
  },
  {
   "cell_type": "code",
   "execution_count": 11,
   "metadata": {},
   "outputs": [],
   "source": [
    "# insert command\n",
    "def insert_row(curr, channel, video_id, video_title, upload_date, subs, views, likes, dislikes, like_perc, comments, tags, description, duration, player):\n",
    "    insert_into_videos = (\"\"\"INSERT INTO video_data (channel, video_id, video_title, upload_date, subs, views, likes, dislikes, like_perc, comments, tags, description, duration, player)\n",
    "                            VALUES(%s, %s, %s, %s, %s, %s, %s, %s, %s, %s, %s, %s, %s, %s);\"\"\")\n",
    "    rows_to_insert = (channel, video_id, video_title, upload_date, subs, views, likes, dislikes, like_perc, comments, tags, description, duration, player)\n",
    "    curr.execute(insert_into_videos, rows_to_insert)"
   ]
  },
  {
   "cell_type": "code",
   "execution_count": 12,
   "metadata": {},
   "outputs": [],
   "source": [
    "def df_to_db(curr, df):\n",
    "    for i, data in df.iterrows():\n",
    "        insert_row(curr, data['channel'], data['video_id'], data['video_title'], data['upload_date'], data['subs'], data['views'],\n",
    "           data['likes'], data['dislikes'], data['like_perc'], data['comments'], data['tags'], data['description'],\n",
    "           data['duration'], data['player'])"
   ]
  },
  {
   "cell_type": "markdown",
   "metadata": {},
   "source": [
    "## Connecting to database and creating table"
   ]
  },
  {
   "cell_type": "code",
   "execution_count": 7,
   "metadata": {},
   "outputs": [],
   "source": [
    "host_name = \n",
    "dbname = \n",
    "port = '5432'\n",
    "username = \n",
    "password = "
   ]
  },
  {
   "cell_type": "code",
   "execution_count": 36,
   "metadata": {},
   "outputs": [],
   "source": [
    "# connecting to PostGres database locally\n",
    "\n",
    "def connect_to_db(host_name, dbname, port, username, password):\n",
    "    try:\n",
    "        conn = ps.connect(host = host_name, database = dbname, user = username, password = password, port = port)\n",
    "    except ps.OperationalError as e:\n",
    "        raise e\n",
    "    else:\n",
    "        print('Connected!')\n",
    "        return conn"
   ]
  },
  {
   "cell_type": "markdown",
   "metadata": {},
   "source": [
    "### Creating table"
   ]
  },
  {
   "cell_type": "code",
   "execution_count": 20,
   "metadata": {},
   "outputs": [
    {
     "name": "stdout",
     "output_type": "stream",
     "text": [
      "Connected!\n"
     ]
    }
   ],
   "source": [
    "conn = connect_to_db(host_name, dbname, port, username, password)"
   ]
  },
  {
   "cell_type": "code",
   "execution_count": 21,
   "metadata": {},
   "outputs": [],
   "source": [
    "curr = conn.cursor() # allows python code to execute sql commands in the database session"
   ]
  },
  {
   "cell_type": "code",
   "execution_count": 22,
   "metadata": {},
   "outputs": [],
   "source": [
    "create_table(curr)"
   ]
  },
  {
   "cell_type": "code",
   "execution_count": 23,
   "metadata": {},
   "outputs": [],
   "source": [
    "conn.commit()"
   ]
  },
  {
   "cell_type": "markdown",
   "metadata": {},
   "source": [
    "### Update"
   ]
  },
  {
   "cell_type": "code",
   "execution_count": 40,
   "metadata": {},
   "outputs": [
    {
     "name": "stdout",
     "output_type": "stream",
     "text": [
      "Connected!\n"
     ]
    }
   ],
   "source": [
    "conn = connect_to_db(host_name, dbname, port, username, password)"
   ]
  },
  {
   "cell_type": "code",
   "execution_count": 41,
   "metadata": {},
   "outputs": [],
   "source": [
    "curr = conn.cursor()"
   ]
  },
  {
   "cell_type": "code",
   "execution_count": 42,
   "metadata": {},
   "outputs": [],
   "source": [
    "# currently database is empty \n",
    "new_vid_df = update_db(curr, df)"
   ]
  },
  {
   "cell_type": "code",
   "execution_count": 43,
   "metadata": {},
   "outputs": [
    {
     "name": "stdout",
     "output_type": "stream",
     "text": [
      "2095\n"
     ]
    }
   ],
   "source": [
    "print(len(new_vid_df))"
   ]
  },
  {
   "cell_type": "code",
   "execution_count": 44,
   "metadata": {},
   "outputs": [],
   "source": [
    "conn.commit()"
   ]
  },
  {
   "cell_type": "code",
   "execution_count": 45,
   "metadata": {},
   "outputs": [],
   "source": [
    "### "
   ]
  },
  {
   "cell_type": "code",
   "execution_count": 46,
   "metadata": {},
   "outputs": [
    {
     "name": "stdout",
     "output_type": "stream",
     "text": [
      "Connected!\n"
     ]
    }
   ],
   "source": [
    "conn = connect_to_db(host_name, dbname, port, username, password)"
   ]
  },
  {
   "cell_type": "code",
   "execution_count": 47,
   "metadata": {},
   "outputs": [],
   "source": [
    "curr = conn.cursor()"
   ]
  },
  {
   "cell_type": "code",
   "execution_count": 48,
   "metadata": {},
   "outputs": [],
   "source": [
    "df_to_db(curr, new_vid_df)"
   ]
  },
  {
   "cell_type": "code",
   "execution_count": 49,
   "metadata": {},
   "outputs": [],
   "source": [
    "conn.commit()"
   ]
  }
 ],
 "metadata": {
  "kernelspec": {
   "display_name": "Python 3",
   "language": "python",
   "name": "python3"
  },
  "language_info": {
   "codemirror_mode": {
    "name": "ipython",
    "version": 3
   },
   "file_extension": ".py",
   "mimetype": "text/x-python",
   "name": "python",
   "nbconvert_exporter": "python",
   "pygments_lexer": "ipython3",
   "version": "3.8.5"
  }
 },
 "nbformat": 4,
 "nbformat_minor": 4
}
